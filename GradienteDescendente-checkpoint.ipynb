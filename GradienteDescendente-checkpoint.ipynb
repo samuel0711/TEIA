{
 "cells": [
  {
   "cell_type": "code",
   "execution_count": 59,
   "metadata": {},
   "outputs": [],
   "source": [
    "from sklearn.base import BaseEstimator\n",
    "import numpy as np\n",
    "\n",
    "class LMStrainer(BaseEstimator):\n",
    "    def __init__(self, analitic=False):  \n",
    "            self.analitic = analitic\n",
    "            self.trained = False\n",
    "            self.theta = None\n",
    "            self.aprend = 0.00000025\n",
    "            self.custoAnt = 0.0\n",
    "            self._tolerancia = 0.0000005\n",
    "            self._it = 0\n",
    "            self._max = 2000\n",
    "            \n",
    "    def _h(self, X):\n",
    "        return np.dot(X,self.theta)\n",
    "    \n",
    "    def _custo(self, m, resul):\n",
    "        return sum((resul)**2)/(2*m)\n",
    "        \n",
    "        \n",
    "    def fit(self, X, y, t):\n",
    "        if self.analitic: # TODO: FAZER POR MATRIZES\n",
    "            print(\"NOPE\")\n",
    "        \n",
    "        else: \n",
    "            self = self._gd(X,y,t)\n",
    "    \n",
    "        self._trained = True\n",
    "        return self\n",
    "    \n",
    "    \n",
    "    def converge(self, X, y, m, resul):\n",
    "        custoAtual = self._custo(m, resul)\n",
    "        flag1 = self._it >= self._max\n",
    "        flag2 = np.abs(custoAtual - self.custoAnt) <= self._tolerancia\n",
    "        return flag1 or flag2\n",
    "    \n",
    "        \n",
    "    def _gd(self, X, y, t):\n",
    "        convergiu = False\n",
    "        it = 0\n",
    "        m = t.size\n",
    "        self.theta = t\n",
    "        X = np.insert(X,0,1,axis=1)\n",
    "        while not convergiu:\n",
    "            self._it += 1\n",
    "            resul = np.subtract(self._h(X),y)\n",
    "            for i in range(m):\n",
    "                self.theta[i] = self.theta[i] - self.aprend * sum(resul*X[:,i]) / (m+1)   \n",
    "            convergiu = self.converge(X, y, m, resul)\n",
    "        return self\n",
    "    \n",
    "    \n",
    "    def predict(self, X, y=None):\n",
    "        if self.trained:\n",
    "            raise RuntimeError(\"You must train classifer before predicting data!\")\n",
    "        X = np.insert(X,0,1,axis=1)\n",
    "        return self._h(X)\n",
    "    "
   ]
  },
  {
   "cell_type": "code",
   "execution_count": 62,
   "metadata": {
    "scrolled": true
   },
   "outputs": [
    {
     "name": "stdout",
     "output_type": "stream",
     "text": [
      "[ 5.96019427]\n"
     ]
    }
   ],
   "source": [
    "from sklearn.base import BaseEstimator\n",
    "import numpy as np\n",
    "\n",
    "treinoX = np.array([[2.0],[4.0],[6.0]])\n",
    "treinoY = np.array([1.0,2.0,3.0])\n",
    "\n",
    "chuteInicial = np.array([2.0,2.0])\n",
    "\n",
    "testeX  = np.array([[2.0]])\n",
    "testeY  = np.array([2.0])\n",
    "\n",
    "trainer = LMStrainer()\n",
    "pred = trainer.fit(treinoX,treinoY,chuteInicial)\n",
    "print(pred.predict(testeX))"
   ]
  },
  {
   "cell_type": "code",
   "execution_count": 65,
   "metadata": {},
   "outputs": [
    {
     "name": "stdout",
     "output_type": "stream",
     "text": [
      "[ 6.56407938]\n"
     ]
    }
   ],
   "source": [
    "from sklearn.base import BaseEstimator\n",
    "import numpy as np\n",
    "import pandas as pd\n",
    "\n",
    "# Reading csv to pandas DataFrame, sadly we lose one sample\n",
    "df = pd.read_csv('http://archive.ics.uci.edu/ml/machine-learning-databases/cpu-performance/machine.data')\n",
    "\n",
    "# Turning the DataFrame to numpy array\n",
    "df = df.values\n",
    "\n",
    "# Deleting the first 2 columns \"Vendor\" and \"Model\"\n",
    "df = np.delete(df,0,1)\n",
    "df = np.delete(df,0,1)\n",
    "\n",
    "# Traning with only one \"class\"/column, X_train1 and y_train1 are the 7th and 8th column of the matrix\n",
    "treinoX = df[:,6:7]\n",
    "\n",
    "treinoY = df[:,7:]\n",
    "# Transposing y_train1, so it has now a HUGE row instead of a HUGE column \n",
    "treinoY = treinoY.T\n",
    "# Now it's REALLY SUPER necessary to turn this 1 x 2 two-dimensional array in to a 2 element one-dimensional array\n",
    "treinoY = treinoY.flatten()\n",
    "\n",
    "# I really tried to not use this, but it won't work any other way\n",
    "theta_initial1 = np.array([1,1]) \n",
    "\n",
    "trainer = LMStrainer()\n",
    "pred = trainer.fit(treinoX,treinoY,chuteInicial)\n",
    "\n",
    "# From missing data: \"'adviser','32/60',125,256,6000,256,16,128,198,199\", predict should be around 199 but it's very far\n",
    "testeX = np.array([[5.0]]) \n",
    "print(pred.predict(testeX))"
   ]
  },
  {
   "cell_type": "code",
   "execution_count": null,
   "metadata": {},
   "outputs": [],
   "source": [
    "from sklearn.base import BaseEstimator\n"
   ]
  }
 ],
 "metadata": {
  "kernelspec": {
   "display_name": "Python 3",
   "language": "python",
   "name": "python3"
  },
  "language_info": {
   "codemirror_mode": {
    "name": "ipython",
    "version": 3
   },
   "file_extension": ".py",
   "mimetype": "text/x-python",
   "name": "python",
   "nbconvert_exporter": "python",
   "pygments_lexer": "ipython3",
   "version": "3.6.5"
  }
 },
 "nbformat": 4,
 "nbformat_minor": 2
}
